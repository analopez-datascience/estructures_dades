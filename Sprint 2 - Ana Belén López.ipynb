{
 "cells": [
  {
   "cell_type": "markdown",
   "id": "8ebb787c",
   "metadata": {},
   "source": [
    "# Sprint 2 - Ana Belén López\n",
    "\n",
    "# Tasca M2 T01\n"
   ]
  },
  {
   "cell_type": "markdown",
   "id": "f0a8a962",
   "metadata": {},
   "source": [
    "# EJERCICIO 1\n",
    "Crea una llista que agrupi els mesos de l’any en trimestres (1T: gener, febrer i març; 2T: abril, maig, juny...), és a dir, una llista amb 4 llistes dins."
   ]
  },
  {
   "cell_type": "code",
   "execution_count": 2,
   "id": "8b5b4dad",
   "metadata": {},
   "outputs": [
    {
     "name": "stdout",
     "output_type": "stream",
     "text": [
      "[['enero', 'febrero', 'marzo'], ['abril', 'mayo', 'junio'], ['julio', 'agosto', 'septiembre'], ['octrubre', 'noviembre', 'diciembre']]\n"
     ]
    }
   ],
   "source": [
    "trimestre1 = [\"enero\", \"febrero\", \"marzo\" ]\n",
    "trimestre2 = [\"abril\", \"mayo\", \"junio\"]\n",
    "trimestre3 = [\"julio\", \"agosto\", \"septiembre\"]\n",
    "trimestre4 = [\"octrubre\", \"noviembre\", \"diciembre\"]\n",
    "\n",
    "year = [trimestre1, trimestre2, trimestre3, trimestre4 ]\n",
    "\n",
    "print(year)"
   ]
  },
  {
   "cell_type": "markdown",
   "id": "90750d3d",
   "metadata": {},
   "source": [
    "# EJERCICIO 2\n",
    "Crea un codi que et permeti accedir a:\n",
    "\n",
    "*El segon mes del primer trimestre.\n",
    "\n",
    "*Els mesos del primer trimestre.\n",
    "\n",
    "*Setembre i octubre."
   ]
  },
  {
   "cell_type": "code",
   "execution_count": 5,
   "id": "c2382826",
   "metadata": {},
   "outputs": [
    {
     "name": "stdout",
     "output_type": "stream",
     "text": [
      "febrero\n"
     ]
    }
   ],
   "source": [
    "print(year[0][1])"
   ]
  },
  {
   "cell_type": "code",
   "execution_count": 12,
   "id": "2346a567",
   "metadata": {},
   "outputs": [
    {
     "name": "stdout",
     "output_type": "stream",
     "text": [
      "['enero', 'febrero', 'marzo']\n"
     ]
    }
   ],
   "source": [
    "print(year[0])"
   ]
  },
  {
   "cell_type": "code",
   "execution_count": 9,
   "id": "286ca38b",
   "metadata": {},
   "outputs": [
    {
     "name": "stdout",
     "output_type": "stream",
     "text": [
      "septiembre octrubre\n"
     ]
    }
   ],
   "source": [
    "print(year[2][2], year[3][0])"
   ]
  },
  {
   "cell_type": "markdown",
   "id": "8f88e0a3",
   "metadata": {},
   "source": [
    "# EJERCICIO 3\n",
    "\n",
    "Crea una llista amb nombres desordenats i respon a les següents preguntes:\n",
    "\n",
    "* Quants números hi ha?\n",
    "* Quantes vegades apareix el número 3.\n",
    "* Quantes vegades apareixen els nombres 3 i 4?\n",
    "* Quin és el número més gran?\n",
    "* Quins són els 3 números més petits?\n",
    "* Quin és el rang d’aquesta llista?"
   ]
  },
  {
   "cell_type": "code",
   "execution_count": 13,
   "id": "68838a68",
   "metadata": {},
   "outputs": [
    {
     "name": "stdout",
     "output_type": "stream",
     "text": [
      "[8, 9, 0, 5, 4, 2, 1, 5, 7, 8, 9, 0, 4, 7, 3, 7, 9, 0, 5, 4]\n"
     ]
    }
   ],
   "source": [
    "mi_lista_loca = [8,9,0,5,4,2,1,5,7,8,9,0,4,7,3,7,9,0,5,4]\n",
    "print(mi_lista_loca)"
   ]
  },
  {
   "cell_type": "code",
   "execution_count": 15,
   "id": "951c2245",
   "metadata": {},
   "outputs": [
    {
     "data": {
      "text/plain": [
       "20"
      ]
     },
     "execution_count": 15,
     "metadata": {},
     "output_type": "execute_result"
    }
   ],
   "source": [
    "len(mi_lista_loca)"
   ]
  },
  {
   "cell_type": "code",
   "execution_count": 19,
   "id": "1820c917",
   "metadata": {},
   "outputs": [
    {
     "data": {
      "text/plain": [
       "1"
      ]
     },
     "execution_count": 19,
     "metadata": {},
     "output_type": "execute_result"
    }
   ],
   "source": [
    "mi_lista_loca.count(3)"
   ]
  },
  {
   "cell_type": "code",
   "execution_count": 22,
   "id": "07f73244",
   "metadata": {},
   "outputs": [
    {
     "data": {
      "text/plain": [
       "4"
      ]
     },
     "execution_count": 22,
     "metadata": {},
     "output_type": "execute_result"
    }
   ],
   "source": [
    "mi_lista_loca.count(3) + mi_lista_loca.count(4)"
   ]
  },
  {
   "cell_type": "code",
   "execution_count": 23,
   "id": "00824f6d",
   "metadata": {},
   "outputs": [
    {
     "data": {
      "text/plain": [
       "9"
      ]
     },
     "execution_count": 23,
     "metadata": {},
     "output_type": "execute_result"
    }
   ],
   "source": [
    "max(mi_lista_loca)"
   ]
  },
  {
   "cell_type": "code",
   "execution_count": 26,
   "id": "2040e937",
   "metadata": {},
   "outputs": [
    {
     "data": {
      "text/plain": [
       "[0, 0, 0]"
      ]
     },
     "execution_count": 26,
     "metadata": {},
     "output_type": "execute_result"
    }
   ],
   "source": [
    "sorted(mi_lista_loca)[:3]"
   ]
  },
  {
   "cell_type": "code",
   "execution_count": 29,
   "id": "40c4435d",
   "metadata": {},
   "outputs": [
    {
     "name": "stdout",
     "output_type": "stream",
     "text": [
      "El número máximo es:  9 y el número mínimo es:  0\n"
     ]
    }
   ],
   "source": [
    "print(\"El número máximo es: \", max(mi_lista_loca) ,\"y el número mínimo es: \", min(mi_lista_loca))"
   ]
  },
  {
   "cell_type": "markdown",
   "id": "f3bec754",
   "metadata": {},
   "source": [
    "# EJERCICIO 4\n",
    "\n",
    "Crea un diccionari de la següent forma i respon a les preguntes:"
   ]
  },
  {
   "cell_type": "code",
   "execution_count": 6,
   "id": "a0430e50",
   "metadata": {},
   "outputs": [],
   "source": [
    "diccionario_frutas = { \"Pomes\" : {\"Qty\": 5, \"€\": 0.42}, \"Peres\" : {\"Qty\": 3, \"€\": 0.66}}"
   ]
  },
  {
   "cell_type": "markdown",
   "id": "a049ed0c",
   "metadata": {},
   "source": [
    "* Afegeix alguna fruita més"
   ]
  },
  {
   "cell_type": "code",
   "execution_count": 9,
   "id": "af5645da",
   "metadata": {},
   "outputs": [
    {
     "name": "stdout",
     "output_type": "stream",
     "text": [
      "{'Pomes': {'Qty': 5, '€': 0.42}, 'Peres': {'Qty': 3, '€': 0.66}, 'Pruna': {'Qty': 8, '€': 0.89}}\n"
     ]
    }
   ],
   "source": [
    "diccionario_frutas[\"Pruna\"]={\"Qty\":8, \"€\":0.89}\n",
    "print(diccionario_frutas)"
   ]
  },
  {
   "cell_type": "markdown",
   "id": "e73b4f04",
   "metadata": {},
   "source": [
    "* Quant han costat les peres en total?"
   ]
  },
  {
   "cell_type": "code",
   "execution_count": 13,
   "id": "9ecfc813",
   "metadata": {},
   "outputs": [
    {
     "data": {
      "text/plain": [
       "1.98"
      ]
     },
     "execution_count": 13,
     "metadata": {},
     "output_type": "execute_result"
    }
   ],
   "source": [
    "diccionario_frutas[\"Peres\"][\"€\"]  *  diccionario_frutas[\"Peres\"][\"Qty\"]"
   ]
  },
  {
   "cell_type": "markdown",
   "id": "e4642087",
   "metadata": {},
   "source": [
    "* Quantes fruites hem comprat en total? (la pregunta no queda clara si se refiere a las unidades de fruta o los tipos)"
   ]
  },
  {
   "cell_type": "code",
   "execution_count": 15,
   "id": "e24c4a70",
   "metadata": {},
   "outputs": [
    {
     "data": {
      "text/plain": [
       "dict_keys(['Pomes', 'Peres', 'Pruna'])"
      ]
     },
     "execution_count": 15,
     "metadata": {},
     "output_type": "execute_result"
    }
   ],
   "source": [
    "diccionario_frutas.keys()"
   ]
  },
  {
   "cell_type": "code",
   "execution_count": 14,
   "id": "9cf1d541",
   "metadata": {},
   "outputs": [
    {
     "data": {
      "text/plain": [
       "3"
      ]
     },
     "execution_count": 14,
     "metadata": {},
     "output_type": "execute_result"
    }
   ],
   "source": [
    "len(diccionario_frutas)"
   ]
  },
  {
   "cell_type": "code",
   "execution_count": 16,
   "id": "fef21021",
   "metadata": {},
   "outputs": [
    {
     "data": {
      "text/plain": [
       "16"
      ]
     },
     "execution_count": 16,
     "metadata": {},
     "output_type": "execute_result"
    }
   ],
   "source": [
    "diccionario_frutas[\"Peres\"][\"Qty\"] + diccionario_frutas[\"Pruna\"][\"Qty\"] + diccionario_frutas[\"Pomes\"][\"Qty\"]"
   ]
  },
  {
   "cell_type": "markdown",
   "id": "27ac1218",
   "metadata": {},
   "source": [
    "* Quina és la fruita més cara?"
   ]
  },
  {
   "cell_type": "code",
   "execution_count": 22,
   "id": "b8cc003f",
   "metadata": {},
   "outputs": [
    {
     "name": "stdout",
     "output_type": "stream",
     "text": [
      "0.89\n",
      "Pruna\n"
     ]
    }
   ],
   "source": [
    "mayor_precio = 0\n",
    "fruta_mas_cara = ''\n",
    "\n",
    "for fruta in diccionario_frutas:\n",
    "    if diccionario_frutas[fruta][\"€\"] > mayor_precio:\n",
    "        mayor_precio = diccionario_frutas[fruta][\"€\"] \n",
    "        fruta_mas_cara = fruta\n",
    "        \n",
    "print(mayor_precio)\n",
    "print(fruta_mas_cara)"
   ]
  },
  {
   "cell_type": "markdown",
   "id": "800fe0fb",
   "metadata": {},
   "source": [
    "# Tasca M2 T02\n",
    "\n",
    "# EJERCICIO 1\n",
    "\n",
    "L'exercici consisteix a crear un programa que et classifiqui una variable numèrica en funció de l’escala Suspès/Aprovat/Notable/Excel·lent.\n",
    "\n",
    "Recorda que Suspès < 5, Aprovat > 5 i < 7, Notable > 7 i < 9 i Excel·lent > 9."
   ]
  },
  {
   "cell_type": "markdown",
   "id": "3bd82faa",
   "metadata": {},
   "source": [
    "# EJERCICIO 2\n",
    "\n",
    "Utilitzant el següent tutorial crea un programa que et pregunti dos números. T’ha de mostrar un missatge dient si el primer és més gran, el segon és més gran o són iguals."
   ]
  },
  {
   "cell_type": "markdown",
   "id": "91aa9241",
   "metadata": {},
   "source": [
    "# EJERCICIO 3\n",
    "\n",
    "Crea un programa que et pregunti el teu nom, i et demani un número. Si el número és 0, hauria de mostrar un missatge d’error. En cas contrari, hauria de mostrar el nom repetit tants cops com indiqui el número. Per exemple, “Joan Joan Joan”."
   ]
  },
  {
   "cell_type": "markdown",
   "id": "71eb9405",
   "metadata": {},
   "source": [
    "# EJERCICIO 4 \n",
    "\n",
    "Crea un programa que donada una llista qualsevol, et digui si és simètrica o no. Si ho és, que et digui quants elements té."
   ]
  },
  {
   "cell_type": "code",
   "execution_count": 29,
   "id": "33b60924",
   "metadata": {},
   "outputs": [
    {
     "data": {
      "text/plain": [
       "range(0, 12)"
      ]
     },
     "execution_count": 29,
     "metadata": {},
     "output_type": "execute_result"
    }
   ],
   "source": [
    "mi_lista = [3,6,2,7,8,5,3,2,4,9,7,9]\n",
    "range(len(mi_lista))"
   ]
  },
  {
   "cell_type": "markdown",
   "id": "d85755f7",
   "metadata": {},
   "source": [
    "# EJERCICIO 5\n",
    "\n",
    "Crea un programa que donada una llista, et digui quants números coincideixen amb la seva posició. Per exemple [3,4,2,0,2,3,6] el 2 i el 6 coincideixen."
   ]
  },
  {
   "cell_type": "code",
   "execution_count": 28,
   "id": "c1abf0f3",
   "metadata": {},
   "outputs": [
    {
     "name": "stdout",
     "output_type": "stream",
     "text": [
      "2\n",
      "5\n",
      "9\n"
     ]
    }
   ],
   "source": [
    "mi_lista = [3,6,2,7,8,5,3,2,4,9,7,9]\n",
    "for i in range(len(mi_lista)):\n",
    "    if mi_lista[i] == i:\n",
    "        print(mi_lista[i])\n"
   ]
  }
 ],
 "metadata": {
  "kernelspec": {
   "display_name": "Python 3 (ipykernel)",
   "language": "python",
   "name": "python3"
  },
  "language_info": {
   "codemirror_mode": {
    "name": "ipython",
    "version": 3
   },
   "file_extension": ".py",
   "mimetype": "text/x-python",
   "name": "python",
   "nbconvert_exporter": "python",
   "pygments_lexer": "ipython3",
   "version": "3.9.12"
  }
 },
 "nbformat": 4,
 "nbformat_minor": 5
}
